{
 "cells": [
  {
   "cell_type": "markdown",
   "metadata": {},
   "source": [
    "# Dia 3 - Parte 1"
   ]
  },
  {
   "cell_type": "markdown",
   "metadata": {},
   "source": [
    "## Exercício 3 (Árvore de Decisão)\n",
    "\n",
    "Usando o seguinte banco de dados usar o algortimo de árvore de decisão para descobrir classes de animes."
   ]
  },
  {
   "cell_type": "code",
   "execution_count": null,
   "metadata": {
    "collapsed": true
   },
   "outputs": [],
   "source": [
    "# Importando os dados\n",
    "import pandas as pd\n",
    "import random\n",
    "from sklearn.tree import DecisionTreeClassifier\n",
    "animes = pd.read_csv(\"animes.csv\", \";\")\n",
    "animes.head()\n",
    "\n",
    "# genres: mecha, music, historical\n",
    "\n",
    "# Vamos definir 3 classes: \n",
    "# -> 0: animes bons\n",
    "# -> 1: animes médianos\n",
    "# -> 2: animes ruins \n",
    "\n",
    "class_ = []\n",
    "for id_, row in animes.iterrows():\n",
    "    if random.randint(0, 10) < 9:\n",
    "        rating = row['rating']\n",
    "        if rating > 7:\n",
    "            class_.append(0)\n",
    "        elif rating <= 7 and rating > 5:\n",
    "            class_.append(1)\n",
    "        else:\n",
    "            class_.append(2)\n",
    "    else: # Vamos adicionar algum ruído\n",
    "        class_.append(random.randint(0, 2))\n",
    "animes[\"class\"] = class_\n",
    "animes.head()"
   ]
  },
  {
   "cell_type": "code",
   "execution_count": null,
   "metadata": {
    "collapsed": true
   },
   "outputs": [],
   "source": [
    "animes_features = animes.drop([\"id\", \"name\", \"class\", \"source\", \"type\"], axis = 1)\n",
    "animes_features.head()"
   ]
  },
  {
   "cell_type": "code",
   "execution_count": null,
   "metadata": {
    "collapsed": true
   },
   "outputs": [],
   "source": [
    "animes_target = animes[\"class\"]\n",
    "animes_target.head()"
   ]
  },
  {
   "cell_type": "code",
   "execution_count": null,
   "metadata": {
    "collapsed": true
   },
   "outputs": [],
   "source": [
    "from sklearn.model_selection import train_test_split\n",
    "\n",
    "a_features_train, a_features_test, a_target_train, a_target_test = train_test_split(\n",
    "    animes_features, animes_target, test_size = 0.2, random_state = 35)\n",
    "\n",
    "clf = DecisionTreeClassifier().fit(a_features_train, a_target_train)\n",
    "# OU:\n",
    "# clf = DecisionTreeClassifier()\n",
    "# clf.fit(a_features_train, a_target_train)\n",
    "\n",
    "decision_tree_pred = clf.predict(a_features_test)\n",
    "print(decision_tree_pred)"
   ]
  },
  {
   "cell_type": "markdown",
   "metadata": {
    "collapsed": true
   },
   "source": [
    "## Exercício 4 (SVM)\n",
    "\n",
    "Use a mesma base com animes para fazer classificação dos animes, agora usando o SVM."
   ]
  },
  {
   "cell_type": "code",
   "execution_count": null,
   "metadata": {
    "collapsed": true
   },
   "outputs": [],
   "source": [
    "# Feito pelo aluno\n",
    "# Importando os dados\n",
    "import pandas as pd\n",
    "import random\n",
    "from sklearn import svm\n",
    "\n",
    "clf = svm.LinearSVC(C = 1.0)\n",
    "clf.fit(a_features_train, a_target_train)\n",
    "linear_svm_pred = clf.predict(a_features_test)\n",
    "print(linear_svm_pred)"
   ]
  },
  {
   "cell_type": "markdown",
   "metadata": {},
   "source": [
    "## Medidas de Desempenho\n",
    "\n",
    "**Documentação:**<br>\n",
    "http://scikit-learn.org/stable/modules/generated/sklearn.metrics.accuracy_score.html<br>\n",
    "http://scikit-learn.org/stable/modules/generated/sklearn.metrics.mean_squared_error.html<br>\n",
    "http://scikit-learn.org/stable/modules/generated/sklearn.model_selection.cross_val_score.html<br>\n",
    "http://scikit-learn.org/stable/modules/generated/sklearn.model_selection.GridSearchCV.html<br>\n",
    "http://scikit-learn.org/stable/modules/model_evaluation.html#scoring-parameter<br>"
   ]
  },
  {
   "cell_type": "markdown",
   "metadata": {},
   "source": [
    "\n",
    "Agora vamos usar os dados gerados nos exercícios 3 e 4 (usando a base de dados dos animes) e comparar o desempenho dos dois algoritmos usando a acurácia de teste. Qual deles teve um desempenho melhor?"
   ]
  },
  {
   "cell_type": "code",
   "execution_count": null,
   "metadata": {
    "collapsed": true
   },
   "outputs": [],
   "source": [
    "# importamos a função para calcular a acurácia\n",
    "from sklearn.metrics import accuracy_score\n",
    "\n",
    "# e passamos para ela os alvos de teste e as previsões do nosso modelo\n",
    "print(accuracy_score(a_target_test, decision_tree_pred))\n",
    "print(accuracy_score(a_target_test, linear_svm_pred))"
   ]
  },
  {
   "cell_type": "markdown",
   "metadata": {},
   "source": [
    "Também podemos simultaneamente predizer e calcular a acurácia com a função \"score\" de objetos de classificação do scikit-learn. Por exemplo, vamos usar novamente a base de dados Íris com o KNN:"
   ]
  },
  {
   "cell_type": "code",
   "execution_count": null,
   "metadata": {
    "collapsed": true
   },
   "outputs": [],
   "source": [
    "from sklearn.datasets import load_iris\n",
    "from sklearn.model_selection import train_test_split\n",
    "from sklearn.neighbors import KNeighborsClassifier\n",
    "\n",
    "iris = load_iris()\n",
    "X = iris.data\n",
    "y = iris.target\n",
    "\n",
    "X_train, X_test, y_train, y_test = train_test_split(X, y)\n",
    "\n",
    "knn = KNeighborsClassifier(n_neighbors=3)\n",
    "knn.fit(X_train, y_train)\n",
    "\n",
    "# Passamos agora o conjunto de dados de teste, \n",
    "# separados por atributos e alvos, e obtemos a acurácia\n",
    "print(knn.score(X_test, y_test))\n",
    "\n",
    "# Em vez de\n",
    "#pred = knn.predict(X_test)\n",
    "#print(accuracy_score(y_test, pred))"
   ]
  },
  {
   "attachments": {
    "05_train_test_split.png": {
     "image/png": "[encoded data removed]"
    },
    "10_fold_cv.png": {
     "image/png": "[encoded data removed]"
    }
   },
   "cell_type": "markdown",
   "metadata": {},
   "source": [
    "Agora tente executar o código acima algumas vezes. Obervamos que uma das desvantagens do train_test_split é sua alta variância: dependendo de quais linhas são reservadas para treino e quais para teste, obtemos resultados diferentes.\n",
    "![05_train_test_split.png](attachment:05_train_test_split.png)\n",
    "\n",
    "Isso pode ser resolvido com o uso de *cross_val_score*, uma função de validação que calcula alguma métrica da sua escolha baseado num algoritmo de *K-fold cross-validation*: os dados são divididos num número cv de subconjuntos (ou *folds*), daí entramos num laço - na primeira iteração, o primeiro fold é usado como teste, enquanto os outros são usadas para treino, na segunda o segundo será reservado para treino, e assim por diante.<br>\n",
    "Isso nos dará um valor de acurácia para cada uma das cv iterações, a média das quais nos dará uma métrica mais confiável do comportamento do nosso modelo, como veremos abaixo.\n",
    "![10_fold_cv.png](attachment:10_fold_cv.png)"
   ]
  },
  {
   "cell_type": "code",
   "execution_count": null,
   "metadata": {
    "collapsed": true
   },
   "outputs": [],
   "source": [
    "from sklearn.model_selection import cross_val_score\n",
    "\n",
    "knn = KNeighborsClassifier(n_neighbors=3)\n",
    "scores = cross_val_score(knn, X, y, cv=10, scoring='accuracy')\n",
    "print(scores)\n",
    "print(scores.mean())"
   ]
  },
  {
   "cell_type": "markdown",
   "metadata": {},
   "source": [
    "Com essa métrica em mãos, vamos tentar determinar qual número k de vizinhos nos dá os melhores resultados para esse problema."
   ]
  },
  {
   "cell_type": "code",
   "execution_count": null,
   "metadata": {
    "collapsed": true
   },
   "outputs": [],
   "source": [
    "import matplotlib.pyplot as plt\n",
    "\n",
    "# Criamos uma lista com todos os valores de 1 a 29 (inclusivo)\n",
    "k_opt = list(range(1, 30))\n",
    "scores = []\n",
    "# Para cada valor de k, adicionamos sua acurácia média a uma lista\n",
    "for k in k_opt:\n",
    "    knn = KNeighborsClassifier(n_neighbors=k)    \n",
    "    score = cross_val_score(knn, X, y, cv=10, scoring='accuracy').mean()\n",
    "    scores.append(score)\n",
    "\n",
    "# e visualizamos\n",
    "plt.plot(k_opt, scores)\n",
    "plt.xlabel('Número K de vizinhos')\n",
    "plt.ylabel('Acurácia média')\n",
    "plt.show()"
   ]
  },
  {
   "cell_type": "markdown",
   "metadata": {},
   "source": [
    "Que conclusões podem ser tiradas desse gráfico? Qual sua relação com os conceitos de *underfitting* e *overfitting*?\n",
    "\n",
    "Agora, note que se quisermos tentar variar também outros hiperparâmetros, teremos que inserí-los como laços aninhados, o que pode deixar nosso código mais extenso e menos legível. Por esse e outros motivos, apresentaremos outra classe bastante útil, *GridSearchCV*, que consiste basicamente de uma matriz multidimensional contendo todas as combinações de parâmetros especificadas, e irá testar todas com o método de aprendizagem especifiado e os dados do seu problema, gerando medidas de desempenho para cada uma."
   ]
  },
  {
   "cell_type": "code",
   "execution_count": null,
   "metadata": {
    "collapsed": true
   },
   "outputs": [],
   "source": [
    "from sklearn.model_selection import GridSearchCV\n",
    "\n",
    "# Vamos testar novamenente todos esses valores de k\n",
    "k_opt = list(range(1, 30))\n",
    "# Mas variando também a opção 'weights', que nos diz se devemos considerar\n",
    "# a distância dos k vizinhos mais próximos como pesos numa média ponderada ou não\n",
    "weight_opt = ['uniform', 'distance']\n",
    "\n",
    "# inserimos essas opções num dicionário com o seguinte formato\n",
    "param_grid = {\n",
    "    'n_neighbors': k_opt, \n",
    "    'weights': weight_opt\n",
    "}\n",
    "print(param_grid)"
   ]
  },
  {
   "cell_type": "code",
   "execution_count": null,
   "metadata": {
    "collapsed": true
   },
   "outputs": [],
   "source": [
    "# Instanciamos nosso estimador (os parâmetros não importam)\n",
    "knn = KNeighborsClassifier()\n",
    "\n",
    "# Criamos o GridSearchCV, passando ao menos \n",
    "# o estimador e o dicionário de parâmetros\n",
    "grid = GridSearchCV(knn, param_grid, cv=10, scoring='accuracy')\n",
    "\n",
    "# Agora passamos nossos dados, e aqui ocorre todo\n",
    "# e treinamento e teste da grid\n",
    "grid.fit(X, y)\n",
    "\n",
    "# Podemos então obter uma configuração de\n",
    "# parâmetros que obteve score ótimo:\n",
    "print(grid.best_params_)"
   ]
  },
  {
   "cell_type": "markdown",
   "metadata": {},
   "source": [
    "Mas vamos ver como se saíram todas as combinações de parâmetros testadas."
   ]
  },
  {
   "cell_type": "code",
   "execution_count": null,
   "metadata": {
    "collapsed": true,
    "scrolled": true
   },
   "outputs": [],
   "source": [
    "# Aqui obtemos uma lista dos scores médios (no caso, acurácia)\n",
    "scores = grid.cv_results_['mean_test_score']\n",
    "# E aqui uma lista correspondente de combinações de parâmetros\n",
    "param_combinations = grid.cv_results_['params']\n",
    "\n",
    "# Vamos separar aqui os scores com pesos uniformes e\n",
    "# com pesos por distância, para plotá-los separadamente\n",
    "uniform_scores = []\n",
    "distance_scores = []\n",
    "for score, params in zip(scores, param_combinations):\n",
    "    if (params['weights'] == 'uniform'):\n",
    "        uniform_scores.append(score)\n",
    "    else:\n",
    "        distance_scores.append(score)\n",
    "\n",
    "\n",
    "plt.plot(k_opt, uniform_scores, 'b', label='pesos uniformes')\n",
    "plt.plot(k_opt, distance_scores, 'r', label='pesos por distância')\n",
    "plt.xlabel('Número K de vizinhos')\n",
    "plt.ylabel('Acurácia média')\n",
    "plt.legend()\n",
    "plt.show()"
   ]
  },
  {
   "cell_type": "markdown",
   "metadata": {},
   "source": [
    "### Exercício 5\n",
    "Vamos tomar agora um exemplo de regressão, onde temos valores investidos em publicidade em TV, rádio, e jornais, e queremos estimar o número de vendas resultantes dessas propagandas."
   ]
  },
  {
   "cell_type": "code",
   "execution_count": null,
   "metadata": {
    "collapsed": true,
    "scrolled": true
   },
   "outputs": [],
   "source": [
    "# Carregando os dados diretamente uma URL, especificando a coluna de índices\n",
    "data = pd.read_csv('http://www-bcf.usc.edu/~gareth/ISL/Advertising.csv', index_col=0)\n",
    "\n",
    "# Visualizando parte da tabela de dados\n",
    "print(data.shape)\n",
    "print(data.head())\n",
    "print(data.tail())\n",
    "\n",
    "# Separando dados em atributos e alvos\n",
    "atributos = ['TV', 'Radio', 'Newspaper']\n",
    "X = data[atributos]\n",
    "y = data['Sales']"
   ]
  },
  {
   "cell_type": "markdown",
   "metadata": {},
   "source": [
    "Tente aplicar alguns dos métodos vistos até agora, e analizar quais deles tem uma melhor performance, e com que hiperparâmetros. Como estamos lidando com um problema de regressão, tente usar metrics.mean_squared_error ou mudar o parâmetro *scoring* de cross_val_score ou GridSearchCV para \"neg_mean_squared_error\". Se lembre de verificar a documentação em caso de dúvidas. Mesmo que você não entenda muito, uma busca cuidadosa pode revelar o que você procura."
   ]
  },
  {
   "cell_type": "code",
   "execution_count": null,
   "metadata": {
    "collapsed": true
   },
   "outputs": [],
   "source": []
  }
 ],
 "metadata": {
  "kernelspec": {
   "display_name": "Python 3",
   "language": "python",
   "name": "python3"
  },
  "language_info": {
   "codemirror_mode": {
    "name": "ipython",
    "version": 3
   },
   "file_extension": ".py",
   "mimetype": "text/x-python",
   "name": "python",
   "nbconvert_exporter": "python",
   "pygments_lexer": "ipython3",
   "version": "3.6.1"
  }
 },
 "nbformat": 4,
 "nbformat_minor": 2
}
